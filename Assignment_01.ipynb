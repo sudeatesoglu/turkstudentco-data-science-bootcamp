{
 "cells": [
  {
   "cell_type": "markdown",
   "id": "b1acabbf",
   "metadata": {},
   "source": [
    "## Problem 1\n",
    "Summation of two given numbers."
   ]
  },
  {
   "cell_type": "code",
   "execution_count": 1,
   "id": "e59f8730",
   "metadata": {
    "scrolled": true
   },
   "outputs": [
    {
     "data": {
      "text/plain": [
       "4.5"
      ]
     },
     "execution_count": 1,
     "metadata": {},
     "output_type": "execute_result"
    }
   ],
   "source": [
    "def sum_two_nums(num_1, num_2):\n",
    "    try:\n",
    "        sum_result = num_1 + num_2\n",
    "        return sum_result\n",
    "    except ValueError:\n",
    "        return \"Invalid input type!\"\n",
    "    \n",
    "sum_two_nums(3, 1.5)"
   ]
  },
  {
   "cell_type": "code",
   "execution_count": 2,
   "id": "6208fb37",
   "metadata": {},
   "outputs": [
    {
     "data": {
      "text/plain": [
       "0"
      ]
     },
     "execution_count": 2,
     "metadata": {},
     "output_type": "execute_result"
    }
   ],
   "source": [
    "sum_two_nums(-1, 1)"
   ]
  },
  {
   "cell_type": "code",
   "execution_count": 3,
   "id": "274c3fd6",
   "metadata": {},
   "outputs": [
    {
     "data": {
      "text/plain": [
       "'xy'"
      ]
     },
     "execution_count": 3,
     "metadata": {},
     "output_type": "execute_result"
    }
   ],
   "source": [
    "sum_two_nums(\"x\", \"y\")"
   ]
  },
  {
   "cell_type": "markdown",
   "id": "48359611",
   "metadata": {},
   "source": [
    "## Problem 2\n",
    "Summation of numbers from 1 to the given number."
   ]
  },
  {
   "cell_type": "code",
   "execution_count": 4,
   "id": "8236d0d3",
   "metadata": {},
   "outputs": [
    {
     "data": {
      "text/plain": [
       "5050"
      ]
     },
     "execution_count": 4,
     "metadata": {},
     "output_type": "execute_result"
    }
   ],
   "source": [
    "def sum_up_to_n(n):\n",
    "    i = 1\n",
    "    sum_result = 0\n",
    "    while i < n + 1:\n",
    "        sum_result = sum_result + i\n",
    "        i = i + 1\n",
    "    return sum_result\n",
    "        \n",
    "sum_up_to_n(100)"
   ]
  },
  {
   "cell_type": "markdown",
   "id": "06899dda",
   "metadata": {},
   "source": [
    "## Problem 3\n",
    "Checking whether given number is prime."
   ]
  },
  {
   "cell_type": "code",
   "execution_count": 5,
   "id": "0af49b34",
   "metadata": {},
   "outputs": [
    {
     "data": {
      "text/plain": [
       "True"
      ]
     },
     "execution_count": 5,
     "metadata": {},
     "output_type": "execute_result"
    }
   ],
   "source": [
    "import math\n",
    "\n",
    "def is_prime(n):\n",
    "    if n <= 1:\n",
    "        return False\n",
    "    \n",
    "    for i in range(2, int(math.sqrt(n))+1):\n",
    "        if n % i == 0:\n",
    "            return False\n",
    "    return True\n",
    "\n",
    "is_prime(13)"
   ]
  },
  {
   "cell_type": "code",
   "execution_count": 6,
   "id": "eae43ea8",
   "metadata": {},
   "outputs": [
    {
     "data": {
      "text/plain": [
       "False"
      ]
     },
     "execution_count": 6,
     "metadata": {},
     "output_type": "execute_result"
    }
   ],
   "source": [
    "is_prime(1)"
   ]
  },
  {
   "cell_type": "code",
   "execution_count": 7,
   "id": "df580131",
   "metadata": {},
   "outputs": [
    {
     "data": {
      "text/plain": [
       "True"
      ]
     },
     "execution_count": 7,
     "metadata": {},
     "output_type": "execute_result"
    }
   ],
   "source": [
    "is_prime(2)"
   ]
  },
  {
   "cell_type": "markdown",
   "id": "50373380",
   "metadata": {},
   "source": [
    "## Problem 4\n",
    "Checking wheter given array has duplicated values."
   ]
  },
  {
   "cell_type": "code",
   "execution_count": 8,
   "id": "c56cc785",
   "metadata": {},
   "outputs": [
    {
     "data": {
      "text/plain": [
       "False"
      ]
     },
     "execution_count": 8,
     "metadata": {},
     "output_type": "execute_result"
    }
   ],
   "source": [
    "def is_duplicated(arr):\n",
    "    if len(arr) != len(set(arr)):\n",
    "        return True\n",
    "    else:\n",
    "        return False\n",
    "    \n",
    "arr1 = [1, 2, 3, 4, 5]\n",
    "arr2 = [1, 2, 3, 4, 5, 1]\n",
    "\n",
    "is_duplicated(arr1)"
   ]
  },
  {
   "cell_type": "code",
   "execution_count": 9,
   "id": "a57aa7f5",
   "metadata": {},
   "outputs": [
    {
     "data": {
      "text/plain": [
       "True"
      ]
     },
     "execution_count": 9,
     "metadata": {},
     "output_type": "execute_result"
    }
   ],
   "source": [
    "is_duplicated(arr2)"
   ]
  }
 ],
 "metadata": {
  "kernelspec": {
   "display_name": "Python 3 (ipykernel)",
   "language": "python",
   "name": "python3"
  },
  "language_info": {
   "codemirror_mode": {
    "name": "ipython",
    "version": 3
   },
   "file_extension": ".py",
   "mimetype": "text/x-python",
   "name": "python",
   "nbconvert_exporter": "python",
   "pygments_lexer": "ipython3",
   "version": "3.11.1"
  }
 },
 "nbformat": 4,
 "nbformat_minor": 5
}
